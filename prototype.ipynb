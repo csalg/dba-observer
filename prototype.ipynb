{
 "cells": [
  {
   "cell_type": "code",
   "execution_count": 3,
   "id": "incorporate-nursing",
   "metadata": {},
   "outputs": [],
   "source": [
    "class House {\n",
    "    constructor(\n",
    "        readonly id,\n",
    "        readonly state,\n",
    "        readonly title,\n",
    "        readonly created,\n",
    "        readonly first_seen_timestamp,\n",
    "        readonly last_seen_timestamp,\n",
    "        readonly price,\n",
    "        readonly deposit,\n",
    "        readonly square_meters,\n",
    "        readonly address,\n",
    "        readonly postcode,\n",
    "        readonly coordinates\n",
    "        ){}\n",
    "}\n",
    "\n",
    "enum HouseState {\n",
    "    Inactive = 0,\n",
    "    Active\n",
    "}\n",
    "\n",
    "type Coordinate = {\n",
    "    latitude: number,\n",
    "    longitude: number\n",
    "}"
   ]
  },
  {
   "cell_type": "code",
   "execution_count": null,
   "id": "elegant-windsor",
   "metadata": {},
   "outputs": [],
   "source": [
    "// Fetch all houses in query.\n",
    "// Fetch all active houses in database.\n",
    "// Go through query houses. \n",
    "//   If house is active, update last_seen_timestamp and remove from set.\n",
    "//   Else, create a new house.\n",
    "// If any houses are left in the set, then they must be inactive, so change their state."
   ]
  },
  {
   "cell_type": "code",
   "execution_count": 4,
   "id": "documentary-passport",
   "metadata": {},
   "outputs": [
    {
     "name": "stdout",
     "output_type": "stream",
     "text": [
      "[\n",
      "  {\n",
      "    link: \u001b[32m'https://www.dba.dk/2860-vaer-2-lejlighed-m2-48/id-119701901/'\u001b[39m\n",
      "  },\n",
      "  {\n",
      "    link: \u001b[32m'https://www.dba.dk/2720-vaer-2-lejlighed-m2-56/id-119670464/'\u001b[39m\n",
      "  },\n",
      "  {\n",
      "    link: \u001b[32m'https://www.dba.dk/2100-vaer-2-lejlighed-m2-44/id-119082813/'\u001b[39m\n",
      "  },\n",
      "  {\n",
      "    link: \u001b[32m'https://www.dba.dk/2400-vaer-2-lejlighed-m2-70/id-120101121/'\u001b[39m\n",
      "  },\n",
      "  {\n",
      "    link: \u001b[32m'https://www.dba.dk/2800-2-vaer-lejlighed-60-m2/id-1077334547/'\u001b[39m\n",
      "  },\n",
      "  {\n",
      "    link: \u001b[32m'https://www.dba.dk/2200-2-vaer-lejlighed-54-m2-1/id-1077304302/'\u001b[39m\n",
      "  },\n",
      "  {\n",
      "    link: \u001b[32m'https://www.dba.dk/2400-vaer-2-lejlighed-m2-58/id-120035744/'\u001b[39m\n",
      "  },\n",
      "  { link: \u001b[32m'https://www.dba.dk/2200-2-vaer-lejlighed/id-1077228765/'\u001b[39m },\n",
      "  {\n",
      "    link: \u001b[32m'https://www.dba.dk/2900-vaer-2-lejlighed-m2-59/id-119993481/'\u001b[39m\n",
      "  },\n",
      "  {\n",
      "    link: \u001b[32m'https://www.dba.dk/2720-vaer-2-lejlighed-m2-38/id-119204472/'\u001b[39m\n",
      "  },\n",
      "  {\n",
      "    link: \u001b[32m'https://www.dba.dk/2720-vaer-2-lejlighed-m2-59/id-117839564/'\u001b[39m\n",
      "  },\n",
      "  {\n",
      "    link: \u001b[32m'https://www.dba.dk/2800-vaer-2-lejlighed-m2-43/id-119990444/'\u001b[39m\n",
      "  },\n",
      "  {\n",
      "    link: \u001b[32m'https://www.dba.dk/2730-vaer-2-lejlighed-m2-60/id-119979437/'\u001b[39m\n",
      "  },\n",
      "  {\n",
      "    link: \u001b[32m'https://www.dba.dk/2400-vaer-2-lejlighed-m2-50/id-119959586/'\u001b[39m\n",
      "  },\n",
      "  {\n",
      "    link: \u001b[32m'https://www.dba.dk/2720-vaer-2-lejlighed-m2-60/id-119193303/'\u001b[39m\n",
      "  },\n",
      "  {\n",
      "    link: \u001b[32m'https://www.dba.dk/2880-vaer-2-lejlighed-m2-65/id-119950696/'\u001b[39m\n",
      "  },\n",
      "  {\n",
      "    link: \u001b[32m'https://www.dba.dk/2720-2-vaer-lejlighed-70-m2/id-1076775766/'\u001b[39m\n",
      "  },\n",
      "  {\n",
      "    link: \u001b[32m'https://www.dba.dk/2820-vaer-2-lejlighed-m2-38/id-118847826/'\u001b[39m\n",
      "  },\n",
      "  {\n",
      "    link: \u001b[32m'https://www.dba.dk/2200-vaer-2-lejlighed-m2-55/id-117649482/'\u001b[39m\n",
      "  },\n",
      "  {\n",
      "    link: \u001b[32m'https://www.dba.dk/2700-2-vaer-lejlighed-72-m2/id-1076547327/'\u001b[39m\n",
      "  },\n",
      "  {\n",
      "    link: \u001b[32m'https://www.dba.dk/2000-2-vaer-lejlighed-52-m2/id-1076528794/'\u001b[39m\n",
      "  }\n",
      "]\n"
     ]
    }
   ],
   "source": [
    "const XRay = require('x-ray');\n",
    "const x = XRay()\n",
    "\n",
    "await x('https://www.dba.dk/boliger/lejebolig/lejelejlighed/antalvaerelser-2/?pris=(4000-8000)&soegfra=2860&radius=7', '.dbaListing', [\n",
    "  {\n",
    "    link: '.mainContent>.listingLink@href',\n",
    "  }\n",
    "])\n",
    "  .paginate('.pagination-right>ul>li:last-child>a@href')\n",
    "  .limit(10)"
   ]
  },
  {
   "cell_type": "code",
   "execution_count": null,
   "id": "abroad-cartoon",
   "metadata": {},
   "outputs": [],
   "source": [
    "class HouseRepository {\n",
    "    \n",
    "}"
   ]
  }
 ],
 "metadata": {
  "kernelspec": {
   "display_name": "TypeScript",
   "language": "typescript",
   "name": "tslab"
  },
  "language_info": {
   "codemirror_mode": {
    "mode": "typescript",
    "name": "javascript",
    "typescript": true
   },
   "file_extension": ".ts",
   "mimetype": "text/typescript",
   "name": "typescript",
   "version": "3.7.2"
  }
 },
 "nbformat": 4,
 "nbformat_minor": 5
}
