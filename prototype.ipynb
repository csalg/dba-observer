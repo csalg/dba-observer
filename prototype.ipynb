{
 "cells": [
  {
   "cell_type": "code",
   "execution_count": 2,
   "id": "monthly-muslim",
   "metadata": {},
   "outputs": [],
   "source": [
    "const URL = `https://www.dba.dk/2770-2-vaer-lejlighed-67-m2/id-1076365317/`"
   ]
  },
  {
   "cell_type": "code",
   "execution_count": 10,
   "id": "important-child",
   "metadata": {},
   "outputs": [],
   "source": [
    "const XRay = require(\"x-ray\")\n",
    "const x = XRay()"
   ]
  },
  {
   "cell_type": "code",
   "execution_count": 29,
   "id": "future-affiliation",
   "metadata": {},
   "outputs": [],
   "source": [
    "const tds = await x(URL, 'td', [{val:''}])"
   ]
  },
  {
   "cell_type": "code",
   "execution_count": 35,
   "id": "specific-recipient",
   "metadata": {},
   "outputs": [
    {
     "name": "stdout",
     "output_type": "stream",
     "text": [
      "\u001b[33m0\u001b[39m\n",
      "{ val: \u001b[32m'Boligtype'\u001b[39m }\n",
      "\u001b[33m1\u001b[39m\n",
      "{ val: \u001b[32m'lejlighed'\u001b[39m }\n",
      "\u001b[33m2\u001b[39m\n",
      "{ val: \u001b[32m'Lejeperiode'\u001b[39m }\n",
      "\u001b[33m3\u001b[39m\n",
      "{ val: \u001b[32m'2-6 måneder'\u001b[39m }\n",
      "\u001b[33m4\u001b[39m\n",
      "{ val: \u001b[32m'Postnr.'\u001b[39m }\n",
      "\u001b[33m5\u001b[39m\n",
      "{ val: \u001b[32m'2770'\u001b[39m }\n",
      "\u001b[33m6\u001b[39m\n",
      "{ val: \u001b[32m'Overtagelsesdato'\u001b[39m }\n",
      "\u001b[33m7\u001b[39m\n",
      "{ val: \u001b[32m'1. April- okt '\u001b[39m }\n",
      "\u001b[33m8\u001b[39m\n",
      "{ val: \u001b[32m'Antal værelser'\u001b[39m }\n",
      "\u001b[33m9\u001b[39m\n",
      "{ val: \u001b[32m'2'\u001b[39m }\n",
      "\u001b[33m10\u001b[39m\n",
      "{ val: \u001b[32m'Fakta'\u001b[39m }\n",
      "\u001b[33m11\u001b[39m\n",
      "{ val: \u001b[32m'altan, møbleret, køleskab, parkeringsplads'\u001b[39m }\n",
      "\u001b[33m12\u001b[39m\n",
      "{ val: \u001b[32m'Boligkvm.'\u001b[39m }\n"
     ]
    }
   ],
   "source": [
    "for (let i=0; i!= tds.length-1; i++){\n",
    "    console.log(i)\n",
    "    console.log(tds[i])\n",
    "}"
   ]
  },
  {
   "cell_type": "code",
   "execution_count": 46,
   "id": "veterinary-given",
   "metadata": {},
   "outputs": [],
   "source": [
    "const parsePropertiesFromTable= async (url: string) => {\n",
    "    const tds : Array<any> = await x(url, 'td', [{val:\"\"}])\n",
    "    const result = {\n",
    "        postcode: \"0\",\n",
    "        deposit: \"0\",\n",
    "        address: \"\",\n",
    "        rooms: \"0\",\n",
    "        squareMeters: \"0\"\n",
    "    }\n",
    "    for (let i=0; i!=tds.length-1; i++){\n",
    "        const key = tds[i]['val']\n",
    "            , val = tds[i+1]['val']\n",
    "        switch(key) {\n",
    "            case \"Postnr.\":\n",
    "                result.postcode = val;\n",
    "                break;\n",
    "            case \"Depositum\":\n",
    "                result.deposit = val;\n",
    "                break;\n",
    "            case \"Adresse\":\n",
    "                result.address = val\n",
    "                break;\n",
    "            case \"Antal værelser\":\n",
    "                result.rooms = val;\n",
    "                break;\n",
    "            case \"Boligkvm.\":\n",
    "                result.squareMeters = val;\n",
    "                break;\n",
    "        }\n",
    "    }\n",
    "    return result\n",
    "}\n",
    "\n"
   ]
  },
  {
   "cell_type": "code",
   "execution_count": 47,
   "id": "later-confirmation",
   "metadata": {},
   "outputs": [
    {
     "name": "stdout",
     "output_type": "stream",
     "text": [
      "{\n",
      "  postcode: \u001b[32m'2770'\u001b[39m,\n",
      "  deposit: \u001b[32m'0'\u001b[39m,\n",
      "  address: \u001b[32m''\u001b[39m,\n",
      "  rooms: \u001b[32m'2'\u001b[39m,\n",
      "  squareMeters: \u001b[32m'67'\u001b[39m\n",
      "}\n"
     ]
    }
   ],
   "source": [
    "await parsePropertiesFromTable(URL)"
   ]
  },
  {
   "cell_type": "code",
   "execution_count": null,
   "id": "acquired-factor",
   "metadata": {},
   "outputs": [],
   "source": []
  }
 ],
 "metadata": {
  "kernelspec": {
   "display_name": "TypeScript",
   "language": "typescript",
   "name": "tslab"
  },
  "language_info": {
   "codemirror_mode": {
    "mode": "typescript",
    "name": "javascript",
    "typescript": true
   },
   "file_extension": ".ts",
   "mimetype": "text/typescript",
   "name": "typescript",
   "version": "3.7.2"
  }
 },
 "nbformat": 4,
 "nbformat_minor": 5
}
